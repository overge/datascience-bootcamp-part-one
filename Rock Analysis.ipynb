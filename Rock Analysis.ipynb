{
 "cells": [
  {
   "cell_type": "code",
   "execution_count": 1,
   "metadata": {
    "collapsed": true
   },
   "outputs": [],
   "source": [
    "import pandas as pd\n",
    "import numpy as np"
   ]
  },
  {
   "cell_type": "code",
   "execution_count": 2,
   "metadata": {
    "collapsed": false
   },
   "outputs": [
    {
     "data": {
      "text/html": [
       "<div>\n",
       "<table border=\"1\" class=\"dataframe\">\n",
       "  <thead>\n",
       "    <tr style=\"text-align: right;\">\n",
       "      <th></th>\n",
       "      <th>Song Clean</th>\n",
       "      <th>ARTIST CLEAN</th>\n",
       "      <th>Release Year</th>\n",
       "      <th>COMBINED</th>\n",
       "      <th>First?</th>\n",
       "      <th>Year?</th>\n",
       "      <th>PlayCount</th>\n",
       "      <th>F*G</th>\n",
       "    </tr>\n",
       "  </thead>\n",
       "  <tbody>\n",
       "    <tr>\n",
       "      <th>0</th>\n",
       "      <td>Caught Up in You</td>\n",
       "      <td>.38 Special</td>\n",
       "      <td>1982</td>\n",
       "      <td>Caught Up in You by .38 Special</td>\n",
       "      <td>1</td>\n",
       "      <td>1</td>\n",
       "      <td>82</td>\n",
       "      <td>82</td>\n",
       "    </tr>\n",
       "    <tr>\n",
       "      <th>1</th>\n",
       "      <td>Fantasy Girl</td>\n",
       "      <td>.38 Special</td>\n",
       "      <td>NaN</td>\n",
       "      <td>Fantasy Girl by .38 Special</td>\n",
       "      <td>1</td>\n",
       "      <td>0</td>\n",
       "      <td>3</td>\n",
       "      <td>0</td>\n",
       "    </tr>\n",
       "    <tr>\n",
       "      <th>2</th>\n",
       "      <td>Hold On Loosely</td>\n",
       "      <td>.38 Special</td>\n",
       "      <td>1981</td>\n",
       "      <td>Hold On Loosely by .38 Special</td>\n",
       "      <td>1</td>\n",
       "      <td>1</td>\n",
       "      <td>85</td>\n",
       "      <td>85</td>\n",
       "    </tr>\n",
       "    <tr>\n",
       "      <th>3</th>\n",
       "      <td>Rockin' Into the Night</td>\n",
       "      <td>.38 Special</td>\n",
       "      <td>1980</td>\n",
       "      <td>Rockin' Into the Night by .38 Special</td>\n",
       "      <td>1</td>\n",
       "      <td>1</td>\n",
       "      <td>18</td>\n",
       "      <td>18</td>\n",
       "    </tr>\n",
       "    <tr>\n",
       "      <th>4</th>\n",
       "      <td>Art For Arts Sake</td>\n",
       "      <td>10cc</td>\n",
       "      <td>1975</td>\n",
       "      <td>Art For Arts Sake by 10cc</td>\n",
       "      <td>1</td>\n",
       "      <td>1</td>\n",
       "      <td>1</td>\n",
       "      <td>1</td>\n",
       "    </tr>\n",
       "  </tbody>\n",
       "</table>\n",
       "</div>"
      ],
      "text/plain": [
       "               Song Clean ARTIST CLEAN Release Year  \\\n",
       "0        Caught Up in You  .38 Special         1982   \n",
       "1            Fantasy Girl  .38 Special          NaN   \n",
       "2         Hold On Loosely  .38 Special         1981   \n",
       "3  Rockin' Into the Night  .38 Special         1980   \n",
       "4       Art For Arts Sake         10cc         1975   \n",
       "\n",
       "                                COMBINED  First?  Year?  PlayCount  F*G  \n",
       "0        Caught Up in You by .38 Special       1      1         82   82  \n",
       "1            Fantasy Girl by .38 Special       1      0          3    0  \n",
       "2         Hold On Loosely by .38 Special       1      1         85   85  \n",
       "3  Rockin' Into the Night by .38 Special       1      1         18   18  \n",
       "4              Art For Arts Sake by 10cc       1      1          1    1  "
      ]
     },
     "execution_count": 2,
     "metadata": {},
     "output_type": "execute_result"
    }
   ],
   "source": [
    "songs = pd.read_csv('data/rock.csv')\n",
    "songs.head()"
   ]
  },
  {
   "cell_type": "code",
   "execution_count": 8,
   "metadata": {
    "collapsed": false
   },
   "outputs": [
    {
     "data": {
      "text/html": [
       "<div>\n",
       "<table border=\"1\" class=\"dataframe\">\n",
       "  <thead>\n",
       "    <tr style=\"text-align: right;\">\n",
       "      <th></th>\n",
       "      <th>title</th>\n",
       "      <th>artist</th>\n",
       "      <th>year</th>\n",
       "      <th>count</th>\n",
       "    </tr>\n",
       "  </thead>\n",
       "  <tbody>\n",
       "    <tr>\n",
       "      <th>0</th>\n",
       "      <td>Caught Up in You</td>\n",
       "      <td>.38 Special</td>\n",
       "      <td>1982</td>\n",
       "      <td>82</td>\n",
       "    </tr>\n",
       "    <tr>\n",
       "      <th>1</th>\n",
       "      <td>Fantasy Girl</td>\n",
       "      <td>.38 Special</td>\n",
       "      <td>NaN</td>\n",
       "      <td>3</td>\n",
       "    </tr>\n",
       "    <tr>\n",
       "      <th>2</th>\n",
       "      <td>Hold On Loosely</td>\n",
       "      <td>.38 Special</td>\n",
       "      <td>1981</td>\n",
       "      <td>85</td>\n",
       "    </tr>\n",
       "    <tr>\n",
       "      <th>3</th>\n",
       "      <td>Rockin' Into the Night</td>\n",
       "      <td>.38 Special</td>\n",
       "      <td>1980</td>\n",
       "      <td>18</td>\n",
       "    </tr>\n",
       "    <tr>\n",
       "      <th>4</th>\n",
       "      <td>Art For Arts Sake</td>\n",
       "      <td>10cc</td>\n",
       "      <td>1975</td>\n",
       "      <td>1</td>\n",
       "    </tr>\n",
       "  </tbody>\n",
       "</table>\n",
       "</div>"
      ],
      "text/plain": [
       "                    title       artist  year  count\n",
       "0        Caught Up in You  .38 Special  1982     82\n",
       "1            Fantasy Girl  .38 Special   NaN      3\n",
       "2         Hold On Loosely  .38 Special  1981     85\n",
       "3  Rockin' Into the Night  .38 Special  1980     18\n",
       "4       Art For Arts Sake         10cc  1975      1"
      ]
     },
     "execution_count": 8,
     "metadata": {},
     "output_type": "execute_result"
    }
   ],
   "source": [
    "songs = pd.read_csv(\n",
    "    'data/rock.csv',\n",
    "    usecols=['Song Clean', 'ARTIST CLEAN', 'Release Year', 'PlayCount'],\n",
    "    converters={'Release Year': lambda x: int(x) if x.isdigit() and int(x) > 1900 else np.nan}\n",
    ")\n",
    "songs = songs.rename(columns={\n",
    "        'Song Clean': 'title',\n",
    "        'ARTIST CLEAN': 'artist',\n",
    "        'Release Year': 'year',\n",
    "        'PlayCount': 'count'})\n",
    "songs.head()"
   ]
  },
  {
   "cell_type": "code",
   "execution_count": 12,
   "metadata": {
    "collapsed": false
   },
   "outputs": [
    {
     "name": "stdout",
     "output_type": "stream",
     "text": [
      "There were 32 songs released in 1981\n"
     ]
    }
   ],
   "source": [
    "# Get number of songs released in year 1981\n",
    "released_in_1981 = songs['year'] == 1989\n",
    "print 'There were {} songs released in 1981'.format(\n",
    "    len(songs[released_in_1981])\n",
    ")"
   ]
  },
  {
   "cell_type": "code",
   "execution_count": 5,
   "metadata": {
    "collapsed": false
   },
   "outputs": [
    {
     "name": "stdout",
     "output_type": "stream",
     "text": [
      "There were 1218 songs released before 1984\n"
     ]
    }
   ],
   "source": [
    "# Get number of songs released before 1984\n",
    "before_1984 = songs['year'] < 1984\n",
    "print 'There were {} songs released before 1984'.format(\n",
    "    len(songs[before_1984])\n",
    ")\n"
   ]
  },
  {
   "cell_type": "code",
   "execution_count": 13,
   "metadata": {
    "collapsed": false
   },
   "outputs": [
    {
     "name": "stdout",
     "output_type": "stream",
     "text": [
      "The first rock song was written in: 1955\n"
     ]
    }
   ],
   "source": [
    "# Earliest release year\n",
    "print 'The first rock song was written in: {:.0f}'.format(\n",
    "    songs['year'].min()\n",
    ")"
   ]
  },
  {
   "cell_type": "code",
   "execution_count": 15,
   "metadata": {
    "collapsed": false
   },
   "outputs": [
    {
     "data": {
      "text/html": [
       "<div>\n",
       "<table border=\"1\" class=\"dataframe\">\n",
       "  <thead>\n",
       "    <tr style=\"text-align: right;\">\n",
       "      <th></th>\n",
       "      <th>title</th>\n",
       "      <th>count</th>\n",
       "    </tr>\n",
       "  </thead>\n",
       "  <tbody>\n",
       "    <tr>\n",
       "      <th>49</th>\n",
       "      <td>Dream On</td>\n",
       "      <td>142</td>\n",
       "    </tr>\n",
       "    <tr>\n",
       "      <th>868</th>\n",
       "      <td>All Along the Watchtower</td>\n",
       "      <td>141</td>\n",
       "    </tr>\n",
       "    <tr>\n",
       "      <th>65</th>\n",
       "      <td>Sweet Emotion</td>\n",
       "      <td>141</td>\n",
       "    </tr>\n",
       "    <tr>\n",
       "      <th>38</th>\n",
       "      <td>You Shook Me All Night Long</td>\n",
       "      <td>138</td>\n",
       "    </tr>\n",
       "    <tr>\n",
       "      <th>267</th>\n",
       "      <td>More Than a Feeling</td>\n",
       "      <td>134</td>\n",
       "    </tr>\n",
       "    <tr>\n",
       "      <th>968</th>\n",
       "      <td>Carry On Wayward Son</td>\n",
       "      <td>134</td>\n",
       "    </tr>\n",
       "    <tr>\n",
       "      <th>269</th>\n",
       "      <td>Peace of Mind</td>\n",
       "      <td>132</td>\n",
       "    </tr>\n",
       "    <tr>\n",
       "      <th>774</th>\n",
       "      <td>Crazy On You</td>\n",
       "      <td>125</td>\n",
       "    </tr>\n",
       "    <tr>\n",
       "      <th>2220</th>\n",
       "      <td>Legs</td>\n",
       "      <td>121</td>\n",
       "    </tr>\n",
       "    <tr>\n",
       "      <th>2224</th>\n",
       "      <td>Sharp Dressed Man</td>\n",
       "      <td>120</td>\n",
       "    </tr>\n",
       "    <tr>\n",
       "      <th>989</th>\n",
       "      <td>Rock And Roll All Nite</td>\n",
       "      <td>119</td>\n",
       "    </tr>\n",
       "    <tr>\n",
       "      <th>1354</th>\n",
       "      <td>Bohemian Rhapsody</td>\n",
       "      <td>119</td>\n",
       "    </tr>\n",
       "    <tr>\n",
       "      <th>1675</th>\n",
       "      <td>Renegade</td>\n",
       "      <td>116</td>\n",
       "    </tr>\n",
       "    <tr>\n",
       "      <th>784</th>\n",
       "      <td>Magic Man</td>\n",
       "      <td>115</td>\n",
       "    </tr>\n",
       "    <tr>\n",
       "      <th>956</th>\n",
       "      <td>Wheel in the Sky</td>\n",
       "      <td>114</td>\n",
       "    </tr>\n",
       "    <tr>\n",
       "      <th>1106</th>\n",
       "      <td>Blinded by the Light</td>\n",
       "      <td>114</td>\n",
       "    </tr>\n",
       "    <tr>\n",
       "      <th>1621</th>\n",
       "      <td>The Joker</td>\n",
       "      <td>114</td>\n",
       "    </tr>\n",
       "    <tr>\n",
       "      <th>1523</th>\n",
       "      <td>Tom Sawyer</td>\n",
       "      <td>114</td>\n",
       "    </tr>\n",
       "    <tr>\n",
       "      <th>1866</th>\n",
       "      <td>Just What I Needed</td>\n",
       "      <td>113</td>\n",
       "    </tr>\n",
       "    <tr>\n",
       "      <th>772</th>\n",
       "      <td>Barracuda</td>\n",
       "      <td>113</td>\n",
       "    </tr>\n",
       "  </tbody>\n",
       "</table>\n",
       "</div>"
      ],
      "text/plain": [
       "                            title  count\n",
       "49                       Dream On    142\n",
       "868      All Along the Watchtower    141\n",
       "65                  Sweet Emotion    141\n",
       "38    You Shook Me All Night Long    138\n",
       "267           More Than a Feeling    134\n",
       "968          Carry On Wayward Son    134\n",
       "269                 Peace of Mind    132\n",
       "774                  Crazy On You    125\n",
       "2220                         Legs    121\n",
       "2224            Sharp Dressed Man    120\n",
       "989        Rock And Roll All Nite    119\n",
       "1354            Bohemian Rhapsody    119\n",
       "1675                     Renegade    116\n",
       "784                     Magic Man    115\n",
       "956              Wheel in the Sky    114\n",
       "1106         Blinded by the Light    114\n",
       "1621                    The Joker    114\n",
       "1523                   Tom Sawyer    114\n",
       "1866           Just What I Needed    113\n",
       "772                     Barracuda    113"
      ]
     },
     "execution_count": 15,
     "metadata": {},
     "output_type": "execute_result"
    }
   ],
   "source": [
    "# Top 20 songs by play count\n",
    "top_20 = songs.sort_values('count', ascending=False)[:20]\n",
    "top_20[ ['title', 'count'] ]"
   ]
  },
  {
   "cell_type": "code",
   "execution_count": 16,
   "metadata": {
    "collapsed": false
   },
   "outputs": [
    {
     "data": {
      "text/plain": [
       "The Beatles                      100\n",
       "Led Zeppelin                      69\n",
       "Rolling Stones                    55\n",
       "Van Halen                         44\n",
       "Pink Floyd                        39\n",
       "Aerosmith                         31\n",
       "The Who                           31\n",
       "Tom Petty & The Heartbreakers     29\n",
       "AC/DC                             29\n",
       "Bob Seger                         24\n",
       "Name: artist, dtype: int64"
      ]
     },
     "execution_count": 16,
     "metadata": {},
     "output_type": "execute_result"
    }
   ],
   "source": [
    "# Top 10 prolific artists\n",
    "songs['artist'].value_counts()[:10]"
   ]
  },
  {
   "cell_type": "code",
   "execution_count": 17,
   "metadata": {
    "collapsed": false
   },
   "outputs": [
    {
     "name": "stdout",
     "output_type": "stream",
     "text": [
      "There are 475 different artists in this data set\n"
     ]
    }
   ],
   "source": [
    "# Number of different artists\n",
    "uniques = songs['artist'].unique()\n",
    "print 'There are {} different artists in this data set'.format(\n",
    "    len(uniques)\n",
    ")\n"
   ]
  },
  {
   "cell_type": "code",
   "execution_count": 18,
   "metadata": {
    "collapsed": false
   },
   "outputs": [
    {
     "name": "stdout",
     "output_type": "stream",
     "text": [
      "                      title       artist  year  count\n",
      "3    Rockin' Into the Night  .38 Special  1980     18\n",
      "13   CAN'T STOP ROCK'N'ROLL        AC/DC   NaN      5\n",
      "15  For Those About To Rock        AC/DC  1981     46\n",
      "17           Hard As A Rock        AC/DC  1995      1\n",
      "23        Let There Be Rock        AC/DC  1977      3\n",
      "\n",
      "\n",
      "In total, there are 60 songs with the word \"rock\" in the title\n"
     ]
    }
   ],
   "source": [
    "# Get all the songs with the word 'rock' in the title\n",
    "mask = songs['title'].apply(lambda x: 'rock' in x.lower())\n",
    "print songs[mask].head()\n",
    "print '\\n'\n",
    "print 'In total, there are {} songs with the word \"rock\" in the title'.format(len(songs[mask]))"
   ]
  },
  {
   "cell_type": "code",
   "execution_count": 19,
   "metadata": {
    "collapsed": false
   },
   "outputs": [
    {
     "data": {
      "text/plain": [
       "0       False\n",
       "1       False\n",
       "2       False\n",
       "3        True\n",
       "4       False\n",
       "5       False\n",
       "6       False\n",
       "7       False\n",
       "8       False\n",
       "9       False\n",
       "10      False\n",
       "11      False\n",
       "12      False\n",
       "13       True\n",
       "14      False\n",
       "15       True\n",
       "16      False\n",
       "17       True\n",
       "18      False\n",
       "19      False\n",
       "20      False\n",
       "21      False\n",
       "22      False\n",
       "23       True\n",
       "24      False\n",
       "25      False\n",
       "26      False\n",
       "27      False\n",
       "28       True\n",
       "29      False\n",
       "        ...  \n",
       "2200    False\n",
       "2201    False\n",
       "2202    False\n",
       "2203    False\n",
       "2204    False\n",
       "2205    False\n",
       "2206    False\n",
       "2207    False\n",
       "2208    False\n",
       "2209    False\n",
       "2210    False\n",
       "2211    False\n",
       "2212    False\n",
       "2213    False\n",
       "2214    False\n",
       "2215    False\n",
       "2216    False\n",
       "2217    False\n",
       "2218    False\n",
       "2219    False\n",
       "2220    False\n",
       "2221    False\n",
       "2222    False\n",
       "2223    False\n",
       "2224    False\n",
       "2225    False\n",
       "2226    False\n",
       "2227    False\n",
       "2228    False\n",
       "2229    False\n",
       "Name: title, dtype: bool"
      ]
     },
     "execution_count": 19,
     "metadata": {},
     "output_type": "execute_result"
    }
   ],
   "source": [
    "mask"
   ]
  },
  {
   "cell_type": "code",
   "execution_count": null,
   "metadata": {
    "collapsed": true
   },
   "outputs": [],
   "source": []
  }
 ],
 "metadata": {
  "kernelspec": {
   "display_name": "Python 2",
   "language": "python",
   "name": "python2"
  },
  "language_info": {
   "codemirror_mode": {
    "name": "ipython",
    "version": 2
   },
   "file_extension": ".py",
   "mimetype": "text/x-python",
   "name": "python",
   "nbconvert_exporter": "python",
   "pygments_lexer": "ipython2",
   "version": "2.7.11"
  }
 },
 "nbformat": 4,
 "nbformat_minor": 0
}
